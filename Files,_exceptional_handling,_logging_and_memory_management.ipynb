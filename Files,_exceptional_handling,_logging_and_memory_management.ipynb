{
  "nbformat": 4,
  "nbformat_minor": 0,
  "metadata": {
    "colab": {
      "provenance": [],
      "collapsed_sections": [
        "LlowOkFF7L7a",
        "mc8OSpbl8aZm"
      ]
    },
    "kernelspec": {
      "name": "python3",
      "display_name": "Python 3"
    },
    "language_info": {
      "name": "python"
    }
  },
  "cells": [
    {
      "cell_type": "markdown",
      "source": [
        "#Files, exceptional handling,logging and memory management\n"
      ],
      "metadata": {
        "id": "Kyaw0XST08TG"
      }
    },
    {
      "cell_type": "markdown",
      "source": [
        "### Q1. 1. What is the difference between interpreted and compiled languages?\n",
        "  - Interpreted languages execute code line-by-line at runtime using an interpreter (e.g., Python, JavaScript). They allow quick testing and debugging but are generally slower.\n",
        "Compiled languages translate the entire source code into machine code before execution (e.g., C, C++), resulting in faster execution but requiring recompilation for changes.\n"
      ],
      "metadata": {
        "id": "A4upm8iP0zE2"
      }
    },
    {
      "cell_type": "markdown",
      "source": [
        "### Q2. What is exception handling in Python?\n",
        "\n",
        "  - Exception handling is a mechanism in Python that allows programs to detect and manage runtime errors without crashing. It uses try, except, else, and finally blocks to gracefully respond to errors.\n",
        "\n"
      ],
      "metadata": {
        "id": "XSJHK416hWHL"
      }
    },
    {
      "cell_type": "markdown",
      "source": [
        "### Q3. What is the purpose of the finally block in exception handling?\n",
        "  - The finally block contains code that will always execute, regardless of whether an exception occurs. It is commonly used for cleanup tasks like closing files or releasing resources.\n",
        "\n"
      ],
      "metadata": {
        "id": "L3iF2zjMi7oC"
      }
    },
    {
      "cell_type": "markdown",
      "source": [
        "### Q4. What is logging in Python?\n",
        "  - Logging is the process of recording messages that describe the execution of a program. Python’s logging module helps track errors, warnings, and information during runtime, often storing them in files for future analysis.\n",
        "\n"
      ],
      "metadata": {
        "id": "tZytMs5AjQ8J"
      }
    },
    {
      "cell_type": "markdown",
      "source": [
        "### Q5. What is the significance of the __del__ method in Python?\n",
        "  - The __del__ method is a destructor that is called when an object is about to be destroyed. It’s used for cleanup activities, such as closing network connections or freeing resources."
      ],
      "metadata": {
        "id": "tMdJVqSnjcpm"
      }
    },
    {
      "cell_type": "markdown",
      "source": [
        "### Q6. What is the difference between import and from ... import in Python?\n",
        "  - import module imports the entire module, and you must use module.name to access its members.\n",
        "\n",
        "  - from module import name imports specific items directly, so you can use them without the module prefix.\n",
        "\n"
      ],
      "metadata": {
        "id": "KpBo4qbGjoRm"
      }
    },
    {
      "cell_type": "markdown",
      "source": [
        "### Q7. How can you handle multiple exceptions in Python?\n",
        "  - You can use multiple except blocks for different exception types or use a tuple."
      ],
      "metadata": {
        "id": "uX1_SRvjjwdF"
      }
    },
    {
      "cell_type": "markdown",
      "source": [
        "### Q8.What is the purpose of the with statement when handling files in Python?\n",
        "  - It ensures that the file is properly closed after its block of code is executed, even if an error occurs. It simplifies file handling and prevents resource leaks."
      ],
      "metadata": {
        "id": "folf8IJzj4NP"
      }
    },
    {
      "cell_type": "markdown",
      "source": [
        "### Q9. What is the difference between multithreading and multiprocessing?\n",
        "  - Multithreading: Runs multiple threads in the same process and shares memory. Best for I/O-bound tasks.\n",
        "\n",
        "  - Multiprocessing: Runs multiple processes, each with its own memory space. Best for CPU-bound tasks.\n",
        "\n"
      ],
      "metadata": {
        "id": "zPWtnW1wkAcn"
      }
    },
    {
      "cell_type": "markdown",
      "source": [
        "### Q10. What are the advantages of using logging in a program?\n",
        "  - Tracks program execution and errors\n",
        "\n",
        "  - Stores persistent records in files\n",
        "\n",
        "  - Supports multiple severity levels\n",
        "\n",
        "  -Improves debugging and maintenance"
      ],
      "metadata": {
        "id": "ioiYS2rzkHCb"
      }
    },
    {
      "cell_type": "markdown",
      "source": [
        "### Q11.What is memory management in Python?\n",
        "  - Memory management is the process of allocating and freeing memory. Python uses automatic memory management via reference counting and a garbage collector."
      ],
      "metadata": {
        "id": "5liObLPPkkjF"
      }
    },
    {
      "cell_type": "markdown",
      "source": [
        "### Q12.What are the basic steps involved in exception handling in Python?\n",
        "  - Place risky code inside a try block.\n",
        "\n",
        "  - Catch errors with an except block.\n",
        "\n",
        "  - Use else for code that runs if no exception occurs.\n",
        "\n",
        "  - Use finally for code that must always run."
      ],
      "metadata": {
        "id": "4VGjgBtMHr4_"
      }
    },
    {
      "cell_type": "markdown",
      "source": [
        "### Q13. Why is memory management important in Python?\n",
        "  - It ensures efficient resource usage, prevents memory leaks, and maintains system stability.\n",
        "\n"
      ],
      "metadata": {
        "id": "mhgiY9EAHsgJ"
      }
    },
    {
      "cell_type": "markdown",
      "source": [
        "### Q14. What is the role of try and except in exception handling?\n",
        "  - The try block contains code that may cause an error, and the except block handles the error if it occurs."
      ],
      "metadata": {
        "id": "0-RrIiJIHs_H"
      }
    },
    {
      "cell_type": "markdown",
      "source": [
        "### Q15. How does Python's garbage collection system work?\n",
        "  - It uses reference counting and a cyclic garbage collector to remove unused objects from memory.\n",
        "\n"
      ],
      "metadata": {
        "id": "lIqHZGO-Htdt"
      }
    },
    {
      "cell_type": "markdown",
      "source": [
        "### Q16. What is the purpose of the else block in exception handling?\n",
        "  - It runs only if no exception occurs in the try block."
      ],
      "metadata": {
        "id": "COoorb-RHuCd"
      }
    },
    {
      "cell_type": "markdown",
      "source": [
        "### Q17. What are the common logging levels in Python?\n",
        "  - DEBUG, INFO, WARNING, ERROR, and CRITICAL."
      ],
      "metadata": {
        "id": "Xn71EJRgIQo7"
      }
    },
    {
      "cell_type": "markdown",
      "source": [
        "### Q18. What is the difference between os.fork() and multiprocessing in Python?\n",
        "  - os.fork() creates a new process by duplicating the current one (Unix only). multiprocessing works on all platforms and offers higher-level process management."
      ],
      "metadata": {
        "id": "879bYMp_IRCX"
      }
    },
    {
      "cell_type": "markdown",
      "source": [
        "### Q19. What is the importance of closing a file in Python?\n",
        "  - It frees resources, ensures data is saved, and prevents file corruption."
      ],
      "metadata": {
        "id": "A5Ev79UFIR1I"
      }
    },
    {
      "cell_type": "markdown",
      "source": [
        "### Q20. What is the difference between file.read() and file.readline() in Python?\n",
        "  - read() returns the entire file as a string.\n",
        "\n",
        "  - readline() reads one line at a time.\n",
        "\n"
      ],
      "metadata": {
        "id": "7oLlYPQKISVM"
      }
    },
    {
      "cell_type": "markdown",
      "source": [
        "### Q21. What is the logging module in Python used for?\n",
        "  - It is used to record messages for debugging, error tracking, and monitoring program behavior."
      ],
      "metadata": {
        "id": "q2dLnmFuJAG7"
      }
    },
    {
      "cell_type": "markdown",
      "source": [
        "### Q22. What is the os module in Python used for in file handling?\n",
        "  - It provides functions to interact with the operating system, such as creating, deleting, and checking files."
      ],
      "metadata": {
        "id": "MyBCM3kzI_kd"
      }
    },
    {
      "cell_type": "markdown",
      "source": [
        "### Q23. What are the challenges associated with memory management in Python?\n",
        "  - Circular references, high memory usage, fragmentation, and large data structures."
      ],
      "metadata": {
        "id": "SdCBJDQbI_Xx"
      }
    },
    {
      "cell_type": "markdown",
      "source": [
        "### Q24.How do you raise an exception manually in Python?\n",
        "  - Use the raise keyword.\n",
        "\n",
        "\n"
      ],
      "metadata": {
        "id": "vIXCnoB2Jqja"
      }
    },
    {
      "cell_type": "markdown",
      "source": [
        "### Q25. Why is it important to use multithreading in certain applications?\n",
        "  - It improves performance for I/O-bound tasks and allows concurrent execution."
      ],
      "metadata": {
        "id": "HCWyr-lsJyQo"
      }
    },
    {
      "cell_type": "markdown",
      "source": [
        "# Practical Questions"
      ],
      "metadata": {
        "id": "5XERkD-105PV"
      }
    },
    {
      "cell_type": "markdown",
      "source": [
        "### Q1.How can you open a file for writing in Python and write a string to it?\n",
        "\n"
      ],
      "metadata": {
        "id": "LlowOkFF7L7a"
      }
    },
    {
      "cell_type": "code",
      "source": [
        "with open(\"file.txt\", \"w\") as f:\n",
        "    f.write(\"Hello, World!\")\n"
      ],
      "metadata": {
        "id": "OWHvGZQF7fHY"
      },
      "execution_count": null,
      "outputs": []
    },
    {
      "cell_type": "markdown",
      "source": [
        "### Q2. Write a Python program to read the contents of a file and print each line.\n",
        "\n",
        "\n"
      ],
      "metadata": {
        "id": "mc8OSpbl8aZm"
      }
    },
    {
      "cell_type": "code",
      "source": [
        "\n",
        "with open(\"file.txt\", \"r\") as f:\n",
        "    for line in f:\n",
        "        print(line.strip())\n"
      ],
      "metadata": {
        "colab": {
          "base_uri": "https://localhost:8080/"
        },
        "id": "T73vMJzc8YmF",
        "outputId": "448d58e9-5e91-43e2-ef09-80a6c9508289"
      },
      "execution_count": null,
      "outputs": [
        {
          "output_type": "stream",
          "name": "stdout",
          "text": [
            "Hello, World!\n"
          ]
        }
      ]
    },
    {
      "cell_type": "markdown",
      "source": [
        "### Q3. How would you handle a case where the file doesn't exist while trying to open it for reading?\n",
        "\n"
      ],
      "metadata": {
        "id": "bCV6bV3u8qEe"
      }
    },
    {
      "cell_type": "code",
      "source": [
        "try:\n",
        "    with open(\"nofile.txt\", \"r\") as f:\n",
        "        print(f.read())\n",
        "except FileNotFoundError:\n",
        "    print(\"File not found!\")\n"
      ],
      "metadata": {
        "colab": {
          "base_uri": "https://localhost:8080/"
        },
        "id": "jXHzwwPI8wbO",
        "outputId": "e0f9eec5-3d69-456d-a775-d7ac80e8892b"
      },
      "execution_count": null,
      "outputs": [
        {
          "output_type": "stream",
          "name": "stdout",
          "text": [
            "File not found!\n"
          ]
        }
      ]
    },
    {
      "cell_type": "markdown",
      "source": [
        "### Q4. Write a Python script that reads from one file and writes its content to another file.\n"
      ],
      "metadata": {
        "id": "z6zsxArm80oJ"
      }
    },
    {
      "cell_type": "code",
      "source": [
        "with open(\"source.txt\", \"r\") as src, open(\"dest.txt\", \"w\") as dst:\n",
        "    dst.write(src.read())\n",
        "\n"
      ],
      "metadata": {
        "id": "DEjuo9Lw86WQ"
      },
      "execution_count": null,
      "outputs": []
    },
    {
      "cell_type": "markdown",
      "source": [
        "### Q5. How would you catch and handle division by zero error in Python?"
      ],
      "metadata": {
        "id": "DZiksE2Q9Ddv"
      }
    },
    {
      "cell_type": "code",
      "source": [
        "try:\n",
        "    result = 10 / 0\n",
        "except ZeroDivisionError:\n",
        "    print(\"Cannot divide by zero\")\n"
      ],
      "metadata": {
        "colab": {
          "base_uri": "https://localhost:8080/"
        },
        "id": "rK6WqdVfrL8y",
        "outputId": "0e644819-2120-41ff-fec4-d7bb914280d5"
      },
      "execution_count": null,
      "outputs": [
        {
          "output_type": "stream",
          "name": "stdout",
          "text": [
            "Cannot divide by zero\n"
          ]
        }
      ]
    },
    {
      "cell_type": "markdown",
      "source": [
        "### Q6. Write a Python program that logs an error message to a log file when a division by zero exception occurs.\n",
        "\n",
        "\n"
      ],
      "metadata": {
        "id": "A0b-Pcpx9W5y"
      }
    },
    {
      "cell_type": "code",
      "source": [
        "import logging\n",
        "\n",
        "logging.basicConfig(filename=\"app.log\", level=logging.ERROR)\n",
        "\n",
        "try:\n",
        "    1 / 0\n",
        "except ZeroDivisionError as e:\n",
        "    logging.error(f\"Error occurred: {e}\")\n"
      ],
      "metadata": {
        "colab": {
          "base_uri": "https://localhost:8080/"
        },
        "id": "p99yv0A99clB",
        "outputId": "3efdd93c-d2a8-4b0e-daa3-c34d224db666"
      },
      "execution_count": null,
      "outputs": [
        {
          "output_type": "stream",
          "name": "stderr",
          "text": [
            "ERROR:root:Error occurred: division by zero\n"
          ]
        }
      ]
    },
    {
      "cell_type": "markdown",
      "source": [
        "### Q7.How do you log information at different levels (INFO, ERROR, WARNING) in Python using the logging module?\n"
      ],
      "metadata": {
        "id": "j377vClB9gu7"
      }
    },
    {
      "cell_type": "code",
      "source": [
        "import logging\n",
        "\n",
        "logging.basicConfig(level=logging.DEBUG)\n",
        "logging.info(\"This is an info message\")\n",
        "logging.warning(\"This is a warning message\")\n",
        "logging.error(\"This is an error message\")\n"
      ],
      "metadata": {
        "colab": {
          "base_uri": "https://localhost:8080/"
        },
        "id": "_cpMgcXO93_x",
        "outputId": "a1f08caa-2523-4768-ad3a-fb368b494855"
      },
      "execution_count": null,
      "outputs": [
        {
          "output_type": "stream",
          "name": "stderr",
          "text": [
            "WARNING:root:This is a warning message\n",
            "ERROR:root:This is an error message\n"
          ]
        }
      ]
    },
    {
      "cell_type": "markdown",
      "source": [
        "### Q8. Write a program to handle a file opening error using exception handling.\n"
      ],
      "metadata": {
        "id": "LE8tCYUE9_QL"
      }
    },
    {
      "cell_type": "code",
      "source": [
        "try:\n",
        "    with open(\"nonexistent.txt\") as f:\n",
        "        pass\n",
        "except FileNotFoundError:\n",
        "    print(\"File opening failed\")\n",
        "\n"
      ],
      "metadata": {
        "colab": {
          "base_uri": "https://localhost:8080/"
        },
        "id": "GSbBLfWJ-G-1",
        "outputId": "22dbaf3c-d298-45a2-9c6b-fdca5cce4cbe"
      },
      "execution_count": null,
      "outputs": [
        {
          "output_type": "stream",
          "name": "stdout",
          "text": [
            "File opening failed\n"
          ]
        }
      ]
    },
    {
      "cell_type": "markdown",
      "source": [
        "### Q9. How can you read a file line by line and store its content in a list in Python?\n",
        "     \n"
      ],
      "metadata": {
        "id": "1J_nO4wJ-jb5"
      }
    },
    {
      "cell_type": "code",
      "source": [
        "with open(\"file.txt\") as f:\n",
        "    lines = f.readlines()"
      ],
      "metadata": {
        "id": "kBHj3y7z-qgf"
      },
      "execution_count": null,
      "outputs": []
    },
    {
      "cell_type": "markdown",
      "source": [
        "### Q10. How can you append data to an existing file in Python?"
      ],
      "metadata": {
        "id": "rHQGLJ-G-_kq"
      }
    },
    {
      "cell_type": "code",
      "source": [
        "with open(\"file.txt\", \"a\") as f:\n",
        "    f.write(\"\\nNew line added\")\n"
      ],
      "metadata": {
        "id": "q8Kh2yfN_K6f"
      },
      "execution_count": null,
      "outputs": []
    },
    {
      "cell_type": "markdown",
      "source": [
        "###Q11. Write a Python program that uses a try-except block to handle an error when attempting to access a dictionary key that doesn't exist."
      ],
      "metadata": {
        "id": "fNi0ZgxEvN-X"
      }
    },
    {
      "cell_type": "code",
      "source": [
        "data = {\"a\": 1}\n",
        "try:\n",
        "    print(data[\"b\"])\n",
        "except KeyError:\n",
        "    print(\"Key not found\")\n"
      ],
      "metadata": {
        "id": "h7aA1W2V_XIw",
        "colab": {
          "base_uri": "https://localhost:8080/"
        },
        "outputId": "611fbcd9-e355-4ab0-f693-97f7f968a746"
      },
      "execution_count": null,
      "outputs": [
        {
          "output_type": "stream",
          "name": "stdout",
          "text": [
            "Key not found\n"
          ]
        }
      ]
    },
    {
      "cell_type": "markdown",
      "source": [
        "### Q12. Write a program that demonstrates using multiple except blocks to handle different types of exceptions."
      ],
      "metadata": {
        "id": "pA_9RbZqO2Ir"
      }
    },
    {
      "cell_type": "code",
      "source": [
        "try:\n",
        "    x = 1 / 0\n",
        "except ZeroDivisionError:\n",
        "    print(\"Division by zero\")\n",
        "except ValueError:\n",
        "    print(\"Value error\")\n",
        "\n"
      ],
      "metadata": {
        "colab": {
          "base_uri": "https://localhost:8080/"
        },
        "id": "Qv9TE-dYO7tB",
        "outputId": "c7f565d0-9ef6-4776-dfef-ef89b6090313"
      },
      "execution_count": null,
      "outputs": [
        {
          "output_type": "stream",
          "name": "stdout",
          "text": [
            "Division by zero\n"
          ]
        }
      ]
    },
    {
      "cell_type": "markdown",
      "source": [
        "### Q13. How would you check if a file exists before attempting to read it in Python?\n"
      ],
      "metadata": {
        "id": "3L54T5AcO-v9"
      }
    },
    {
      "cell_type": "code",
      "source": [
        "import os\n",
        "\n",
        "if os.path.exists(\"file.txt\"):\n",
        "    with open(\"file.txt\") as f:\n",
        "        print(f.read())\n",
        "else:\n",
        "    print(\"File not found\")\n"
      ],
      "metadata": {
        "colab": {
          "base_uri": "https://localhost:8080/"
        },
        "id": "HRpJZc3dPC0M",
        "outputId": "1d71909c-2adf-4555-d8cd-cc5a324e6e58"
      },
      "execution_count": null,
      "outputs": [
        {
          "output_type": "stream",
          "name": "stdout",
          "text": [
            "Hello, World!\n",
            "New line added\n"
          ]
        }
      ]
    },
    {
      "cell_type": "markdown",
      "source": [
        "### Q14. Write a program that uses the logging module to log both informational and error messages."
      ],
      "metadata": {
        "id": "Ko69iDcePFWe"
      }
    },
    {
      "cell_type": "code",
      "source": [
        "import logging\n",
        "\n",
        "logging.basicConfig(filename=\"log.txt\", level=logging.DEBUG)\n",
        "logging.info(\"This is an info message\")\n",
        "logging.error(\"This is an error message\")\n"
      ],
      "metadata": {
        "colab": {
          "base_uri": "https://localhost:8080/"
        },
        "id": "6zyTdM_EPLkJ",
        "outputId": "57fd8bad-c1d5-472c-fba2-0c463eb2bdf0"
      },
      "execution_count": null,
      "outputs": [
        {
          "output_type": "stream",
          "name": "stderr",
          "text": [
            "ERROR:root:This is an error message\n"
          ]
        }
      ]
    },
    {
      "cell_type": "markdown",
      "source": [
        "### Q15. Write a Python program that prints the content of a file and handles the case when the file is empty."
      ],
      "metadata": {
        "id": "_jBZBzRiPOay"
      }
    },
    {
      "cell_type": "code",
      "source": [
        "with open(\"file.txt\") as f:\n",
        "    content = f.read()\n",
        "    if not content:\n",
        "        print(\"File is empty\")\n",
        "    else:\n",
        "        print(content)\n"
      ],
      "metadata": {
        "colab": {
          "base_uri": "https://localhost:8080/"
        },
        "id": "agEgaIeWPVfg",
        "outputId": "7bc16e78-908e-47d3-e310-491f99d4da92"
      },
      "execution_count": null,
      "outputs": [
        {
          "output_type": "stream",
          "name": "stdout",
          "text": [
            "Hello, World!\n",
            "New line added\n"
          ]
        }
      ]
    },
    {
      "cell_type": "markdown",
      "source": [
        "### Q16. Demonstrate how to use memory profiling to check the memory usage of a small program."
      ],
      "metadata": {
        "id": "3O94y4tPPdKw"
      }
    },
    {
      "cell_type": "code",
      "source": [
        "from memory_profiler import profile\n",
        "\n",
        "@profile\n",
        "def my_func():\n",
        "    a = [i for i in range(10000)]\n",
        "    return a\n",
        "\n",
        "my_func()\n"
      ],
      "metadata": {
        "id": "Ep3eOYFSPiEM"
      },
      "execution_count": null,
      "outputs": []
    },
    {
      "cell_type": "markdown",
      "source": [
        "### Q17. Write a Python program to create and write a list of numbers to a file, one number per line.\n"
      ],
      "metadata": {
        "id": "_YJ0odPTPmD3"
      }
    },
    {
      "cell_type": "code",
      "source": [
        "numbers = [1, 2, 3, 4, 5]\n",
        "with open(\"nums.txt\", \"w\") as f:\n",
        "    for num in numbers:\n",
        "        f.write(f\"{num}\\n\")\n"
      ],
      "metadata": {
        "id": "tUSZwEuvPtMj"
      },
      "execution_count": null,
      "outputs": []
    },
    {
      "cell_type": "markdown",
      "source": [
        "### Q18. How would you implement a basic logging setup that logs to a file with rotation after 1MB?"
      ],
      "metadata": {
        "id": "19q9EBMbPwXy"
      }
    },
    {
      "cell_type": "code",
      "source": [
        "class House:\n",
        "    def __init__(self, address, price):\n",
        "        self.address = address\n",
        "        self.price = price\n",
        "\n",
        "class Mansion(House):\n",
        "    def __init__(self, address, price, number_of_rooms):\n",
        "        super().__init__(address, price)\n",
        "        self.number_of_rooms = number_of_rooms\n",
        "\n",
        "m = Mansion(\"123 Luxury St\", 50000000, 12)\n",
        "print(m.address, m.price, m.number_of_rooms)"
      ],
      "metadata": {
        "colab": {
          "base_uri": "https://localhost:8080/"
        },
        "id": "odHCfybmP2A6",
        "outputId": "e1070fef-b412-4341-f473-2d7d6c8322ef"
      },
      "execution_count": null,
      "outputs": [
        {
          "output_type": "stream",
          "name": "stdout",
          "text": [
            "123 Luxury St 50000000 12\n"
          ]
        }
      ]
    },
    {
      "cell_type": "markdown",
      "source": [
        " ### Q19. How would you open a file and read its contents using a context manager in Python?"
      ],
      "metadata": {
        "id": "io5UDgfeWVle"
      }
    },
    {
      "cell_type": "code",
      "source": [
        "try:\n",
        "    lst = [1]\n",
        "    print(lst[2])\n",
        "except IndexError:\n",
        "    print(\"Index out of range\")\n",
        "except KeyError:\n",
        "    print(\"Key not found\")\n"
      ],
      "metadata": {
        "colab": {
          "base_uri": "https://localhost:8080/"
        },
        "id": "o1kVIARLWWI0",
        "outputId": "c630c1a7-cf09-4470-a2d8-9b8c70f7d15e"
      },
      "execution_count": null,
      "outputs": [
        {
          "output_type": "stream",
          "name": "stdout",
          "text": [
            "Index out of range\n"
          ]
        }
      ]
    },
    {
      "cell_type": "markdown",
      "source": [
        "### Q20. How would you open a file and read its contents using a context manager in Python?"
      ],
      "metadata": {
        "id": "4MFkMnbnWx4U"
      }
    },
    {
      "cell_type": "code",
      "source": [
        "with open(\"file.txt\") as f:\n",
        "    print(f.read())\n"
      ],
      "metadata": {
        "colab": {
          "base_uri": "https://localhost:8080/"
        },
        "id": "bbyBTJdPW2vM",
        "outputId": "32972a33-9ca0-4ff0-ca00-9a5e9f31a72b"
      },
      "execution_count": null,
      "outputs": [
        {
          "output_type": "stream",
          "name": "stdout",
          "text": [
            "Hello, World!\n",
            "New line added\n"
          ]
        }
      ]
    },
    {
      "cell_type": "markdown",
      "source": [
        "### Q21. Write a Python program that reads a file and prints the number of occurrences of a specific word.\n"
      ],
      "metadata": {
        "id": "MjayV2gOW7mr"
      }
    },
    {
      "cell_type": "code",
      "source": [
        "word = \"python\"\n",
        "count = 0\n",
        "with open(\"file.txt\") as f:\n",
        "    for line in f:\n",
        "        count += line.lower().count(word)\n",
        "print(count)\n"
      ],
      "metadata": {
        "id": "WalHC8o8XAxE"
      },
      "execution_count": null,
      "outputs": []
    },
    {
      "cell_type": "markdown",
      "source": [
        "### Q22. How can you check if a file is empty before attempting to read its contents?\n"
      ],
      "metadata": {
        "id": "j_8lg_ESXD2R"
      }
    },
    {
      "cell_type": "code",
      "source": [
        "import os\n",
        "\n",
        "if os.path.getsize(\"file.txt\") == 0:\n",
        "    print(\"File is empty\")\n"
      ],
      "metadata": {
        "id": "I0P6lEQkXkQq"
      },
      "execution_count": null,
      "outputs": []
    },
    {
      "cell_type": "markdown",
      "source": [
        "### Q23. Write a Python program that writes to a log file when an error occurs during file handling."
      ],
      "metadata": {
        "id": "xLQoMDynXyUU"
      }
    },
    {
      "cell_type": "code",
      "source": [
        "import logging\n",
        "\n",
        "logging.basicConfig(filename=\"error.log\", level=logging.ERROR)\n",
        "\n",
        "try:\n",
        "    with open(\"missing.txt\") as f:\n",
        "        pass\n",
        "except Exception as e:\n",
        "    logging.error(f\"File handling error: {e}\")\n"
      ],
      "metadata": {
        "colab": {
          "base_uri": "https://localhost:8080/"
        },
        "id": "s8y4gBaDX2X7",
        "outputId": "c88bc82c-4a95-4451-c101-6ec1ce1b163d"
      },
      "execution_count": null,
      "outputs": [
        {
          "output_type": "stream",
          "name": "stderr",
          "text": [
            "ERROR:root:File handling error: [Errno 2] No such file or directory: 'missing.txt'\n"
          ]
        }
      ]
    }
  ]
}